{
 "cells": [
  {
   "cell_type": "code",
   "execution_count": 11,
   "metadata": {},
   "outputs": [
    {
     "name": "stdout",
     "output_type": "stream",
     "text": [
      "\n"
     ]
    }
   ],
   "source": [
    "import pandas as pandas\n",
    "import requests\n",
    "import json\n",
    "\n",
    "url = \"https://archive-api.open-meteo.com/v1/archive\"\n",
    "\n",
    "payload = {\n",
    "    \"latitude\": 9.769181,\n",
    "    \"longitude\": 139.01135,\n",
    "    \"start_date\": \"2019-12-01\",\n",
    "    \"end_date\": \"2019-12-30\",\n",
    "    \"hourly\": \"temperature_2m,rain,snowfall\",\n",
    "    \"daily\": \"temperature_2m_max,temperature_2m_min\",\n",
    "    \"timezone\": \"America/New_York\"\n",
    "}\n",
    "\n",
    "headers = {\n",
    "    \"Content-Type\": \"application/json\"  \n",
    "}\n",
    "\n",
    "\n",
    "payload_json = json.dumps(payload)\n",
    "\n",
    "response = requests.request(\"GET\", url, headers=headers, data=payload_json)\n",
    "\n",
    "print(response.text)"
   ]
  }
 ],
 "metadata": {
  "kernelspec": {
   "display_name": "uot",
   "language": "python",
   "name": "python3"
  },
  "language_info": {
   "codemirror_mode": {
    "name": "ipython",
    "version": 3
   },
   "file_extension": ".py",
   "mimetype": "text/x-python",
   "name": "python",
   "nbconvert_exporter": "python",
   "pygments_lexer": "ipython3",
   "version": "3.11.5"
  },
  "orig_nbformat": 4
 },
 "nbformat": 4,
 "nbformat_minor": 2
}
